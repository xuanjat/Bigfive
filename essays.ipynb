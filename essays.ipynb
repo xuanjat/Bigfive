{
 "cells": [
  {
   "cell_type": "code",
   "execution_count": 1,
   "id": "77cba6ea",
   "metadata": {},
   "outputs": [],
   "source": [
    "#!/usr/bin/env python\n",
    "# coding: utf-8\n",
    "\n",
    "# In[5]:\n",
    "\n",
    "\n",
    "import re\n",
    "# a class for our Essays. Could be required for further development.\n",
    "# to be extended in further versions\n",
    "\n",
    "class Essay:\n",
    "    def __init__(self, text, cEXT, cNEU, cAGR, cCON, cOPN):\n",
    "        self.text = text\n",
    "        self.cEXT = cEXT\n",
    "        self.cNEU = cNEU\n",
    "        self.cAGR = cAGR\n",
    "        self.cCON = cCON\n",
    "        self.cOPN = cOPN\n",
    "        self.clean_text = self.remove_unwanted_chars(text)\n",
    "        self.words = self.get_all_words(text)\n",
    "        self.scentences = self.create_scentences(text)\n",
    "        self.filtered_text = \"\"\n",
    "        self.w2v_words = []\n",
    "        self.glove = {}\n",
    "\n",
    "    # a method to documents into scentences\n",
    "    # possible further improvements. If \".\" or \"!\" or \"?\" is missing\n",
    "    # split long junks of words into scentences. (see paper: )\n",
    "    \n",
    "    def create_scentences(self, text):\n",
    "        scentences = re.split(\"(?<=[.!?]) +\", text)\n",
    "        return scentences\n",
    "    \n",
    "    # as defined in the paper, all text is changed to lowercase \n",
    "    # and all caracters other than ASCII-letters, digits exclamation marks\n",
    "    # and single and double quotation marks are removed  # I also added \"?\"\n",
    "    \n",
    "    def remove_unwanted_chars(self, text):\n",
    "        allowed_chars = \"\"\" 0123456789abcdefghijklmnopqrstuvwxyz!\"\".?\"\"\"\n",
    "        clean_text = text.lower()\n",
    "        for c in clean_text:\n",
    "            if allowed_chars.find(c) == -1:\n",
    "                clean_text = clean_text.replace(c, \"\")\n",
    "            else:\n",
    "                pass\n",
    "        return clean_text\n",
    "\n",
    "\n",
    "    def get_all_words(self, text):\n",
    "        \n",
    "        regex = re.compile(\"\"\"[^A-Za-z ]\"\"\")\n",
    "        text = regex.sub('', text)\n",
    "        text = text.split()\n",
    "        \n",
    "        return text\n"
   ]
  },
  {
   "cell_type": "code",
   "execution_count": null,
   "id": "17d1bb2b",
   "metadata": {},
   "outputs": [],
   "source": []
  }
 ],
 "metadata": {
  "kernelspec": {
   "display_name": "Python 3 (ipykernel)",
   "language": "python",
   "name": "python3"
  },
  "language_info": {
   "codemirror_mode": {
    "name": "ipython",
    "version": 3
   },
   "file_extension": ".py",
   "mimetype": "text/x-python",
   "name": "python",
   "nbconvert_exporter": "python",
   "pygments_lexer": "ipython3",
   "version": "3.12.8"
  }
 },
 "nbformat": 4,
 "nbformat_minor": 5
}
