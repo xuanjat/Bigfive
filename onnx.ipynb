{
 "cells": [
  {
   "cell_type": "code",
   "execution_count": 2,
   "id": "1b4e7e1a",
   "metadata": {},
   "outputs": [
    {
     "ename": "NameError",
     "evalue": "name 'input_dimension' is not defined",
     "output_type": "error",
     "traceback": [
      "\u001b[1;31m---------------------------------------------------------------------------\u001b[0m",
      "\u001b[1;31mNameError\u001b[0m                                 Traceback (most recent call last)",
      "Cell \u001b[1;32mIn[2], line 9\u001b[0m\n\u001b[0;32m      6\u001b[0m model \u001b[38;5;241m=\u001b[39m \u001b[38;5;241m.\u001b[39m\u001b[38;5;241m.\u001b[39m\u001b[38;5;241m.\u001b[39m\n\u001b[0;32m      8\u001b[0m \u001b[38;5;66;03m# 定义模型输入的类型\u001b[39;00m\n\u001b[1;32m----> 9\u001b[0m initial_type \u001b[38;5;241m=\u001b[39m [(\u001b[38;5;124m'\u001b[39m\u001b[38;5;124mfloat_input\u001b[39m\u001b[38;5;124m'\u001b[39m, FloatTensorType([\u001b[38;5;28;01mNone\u001b[39;00m, \u001b[43minput_dimension\u001b[49m]))]\n\u001b[0;32m     11\u001b[0m \u001b[38;5;66;03m# 将模型转换为 ONNX 格式\u001b[39;00m\n\u001b[0;32m     12\u001b[0m onnx_model \u001b[38;5;241m=\u001b[39m convert_sklearn(model, initial_types\u001b[38;5;241m=\u001b[39minitial_type)\n",
      "\u001b[1;31mNameError\u001b[0m: name 'input_dimension' is not defined"
     ]
    }
   ],
   "source": [
    "from skl2onnx import convert_sklearn\n",
    "from skl2onnx.common.data_types import FloatTensorType\n",
    "import onnx\n",
    "\n",
    "# 假设您有一个训练好的 scikit-learn 模型\n",
    "model = ...\n",
    "\n",
    "# 定义模型输入的类型\n",
    "initial_type = [('float_input', FloatTensorType([None, input_dimension]))]\n",
    "\n",
    "# 将模型转换为 ONNX 格式\n",
    "onnx_model = convert_sklearn(model, initial_types=initial_type)\n",
    "\n",
    "# 保存 ONNX 模型\n",
    "with open(\"model.onnx\", \"wb\") as f:\n",
    "    f.write(onnx_model.SerializeToString())"
   ]
  },
  {
   "cell_type": "code",
   "execution_count": null,
   "id": "2b97df98",
   "metadata": {},
   "outputs": [],
   "source": []
  }
 ],
 "metadata": {
  "kernelspec": {
   "display_name": "bigfive27",
   "language": "python",
   "name": "bigfive"
  },
  "language_info": {
   "codemirror_mode": {
    "name": "ipython",
    "version": 3
   },
   "file_extension": ".py",
   "mimetype": "text/x-python",
   "name": "python",
   "nbconvert_exporter": "python",
   "pygments_lexer": "ipython3",
   "version": "3.6.15"
  }
 },
 "nbformat": 4,
 "nbformat_minor": 5
}
