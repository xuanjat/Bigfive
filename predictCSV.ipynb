{
 "cells": [
  {
   "cell_type": "markdown",
   "metadata": {},
   "source": [
    "### 预制环境和导入模型"
   ]
  },
  {
   "cell_type": "code",
   "execution_count": 9,
   "metadata": {},
   "outputs": [],
   "source": [
    "import pickle\n",
    "import pandas as pd\n",
    "import re\n",
    "from sklearn.feature_extraction.text import CountVectorizer\n",
    "\n",
    "# Load pre-trained models and vectorizers\n",
    "cEXT = pickle.load(open(\"data/models/cEXT.p\", \"rb\"))\n",
    "cNEU = pickle.load(open(\"data/models/cNEU.p\", \"rb\"))\n",
    "cAGR = pickle.load(open(\"data/models/cAGR.p\", \"rb\"))\n",
    "cCON = pickle.load(open(\"data/models/cCON.p\", \"rb\"))\n",
    "cOPN = pickle.load(open(\"data/models/cOPN.p\", \"rb\"))\n",
    "vectorizer_31 = pickle.load(open(\"data/models/vectorizer_31.p\", \"rb\"))\n",
    "vectorizer_30 = pickle.load(open(\"data/models/vectorizer_30.p\", \"rb\"))\n",
    "\n",
    "def predict_personality(text):\n",
    "    # Split text into sentences\n",
    "    sentences = re.split(\"(?<=[.!?]) +\", text)  # 更正变量名，文本内容通过参数传递\n",
    "    \n",
    "    # Transform sentences into feature vectors\n",
    "    text_vector_31 = vectorizer_31.transform(sentences)\n",
    "    text_vector_30 = vectorizer_30.transform(sentences)\n",
    "    \n",
    "    # Predict probabilities for each personality dimension\n",
    "    prob_EXT = cEXT.predict_proba(text_vector_31)\n",
    "    prob_NEU = cNEU.predict_proba(text_vector_30)\n",
    "    prob_AGR = cAGR.predict_proba(text_vector_31)\n",
    "    prob_CON = cCON.predict_proba(text_vector_31)\n",
    "    prob_OPN = cOPN.predict_proba(text_vector_31)\n",
    "    \n",
    "    # Extract the confidence scores (probability of the predicted class)\n",
    "    confidence_EXT = prob_EXT.max()\n",
    "    confidence_NEU = prob_NEU.max()\n",
    "    confidence_AGR = prob_AGR.max()\n",
    "    confidence_CON = prob_CON.max()\n",
    "    confidence_OPN = prob_OPN.max()\n",
    "    \n",
    "    return [confidence_EXT, confidence_NEU, confidence_AGR, confidence_CON, confidence_OPN]"
   ]
  },
  {
   "cell_type": "markdown",
   "metadata": {},
   "source": [
    "#### 根据gvkey和year对content进行predict"
   ]
  },
  {
   "cell_type": "code",
   "execution_count": 12,
   "metadata": {},
   "outputs": [
    {
     "name": "stdout",
     "output_type": "stream",
     "text": [
      "预测结果已保存到 personality_gvkeyandyear.xls\n"
     ]
    }
   ],
   "source": [
    "# 读取 merged_content.xls 文件\n",
    "file_path = 'merged_gvkeyandyear.xls'\n",
    "df = pd.read_excel(file_path)\n",
    "\n",
    "# 创建一个列表来存储预测结果\n",
    "results = []\n",
    "\n",
    "# 遍历每一行并进行个性预测\n",
    "for index, row in df.iterrows():\n",
    "    text = row['content']  # 假设文本内容存储在 'content' 列\n",
    "    predictions = predict_personality(text)\n",
    "    \n",
    "    # 将预测结果和其他信息保存到结果列表\n",
    "    results.append({\n",
    "        'gvkey': row['gvkey'],  # 假设存在 'gvkey' 列\n",
    "        'year': row['year'],    # 假设存在 'year' 列\n",
    "        'EXT': predictions[0],\n",
    "        'NEU': predictions[1],\n",
    "        'AGR': predictions[2],\n",
    "        'CON': predictions[3],\n",
    "        'OPN': predictions[4]\n",
    "    })\n",
    "\n",
    "# 将结果转换为 DataFrame\n",
    "results_df = pd.DataFrame(results)\n",
    "\n",
    "# 保存结果到新的 Excel 文件\n",
    "output_file = 'personality_gvkeyandyear.xls'\n",
    "results_df.to_excel(output_file, index=False)\n",
    "\n",
    "print(f\"预测结果已保存到 {output_file}\")"
   ]
  },
  {
   "cell_type": "markdown",
   "metadata": {},
   "source": [
    "#### 根据datacqtr和gvkey对content进行predict"
   ]
  },
  {
   "cell_type": "code",
   "execution_count": 14,
   "metadata": {},
   "outputs": [
    {
     "name": "stdout",
     "output_type": "stream",
     "text": [
      "预测结果已保存到 personality_datacqtrandgvkey.xls\n"
     ]
    }
   ],
   "source": [
    "# 读取 merged_content.xls 文件\n",
    "file_path = 'merged_datacqtrandgvkey.xls'\n",
    "df = pd.read_excel(file_path)\n",
    "\n",
    "# 创建一个列表来存储预测结果\n",
    "results = []\n",
    "\n",
    "# 遍历每一行并进行个性预测\n",
    "for index, row in df.iterrows():\n",
    "    text = row['content']  # 假设文本内容存储在 'content' 列\n",
    "    predictions = predict_personality(text)\n",
    "    \n",
    "    # 将预测结果和其他信息保存到结果列表\n",
    "    results.append({\n",
    "        'datacqtr': row['datacqtr'],  # 假设存在 'datacqtr' 列\n",
    "        'gvkey': row['gvkey'],    # 假设存在 'gvkey' 列\n",
    "        'EXT': predictions[0],\n",
    "        'NEU': predictions[1],\n",
    "        'AGR': predictions[2],\n",
    "        'CON': predictions[3],\n",
    "        'OPN': predictions[4]\n",
    "    })\n",
    "\n",
    "# 将结果转换为 DataFrame\n",
    "results_df = pd.DataFrame(results)\n",
    "\n",
    "# 保存结果到新的 Excel 文件\n",
    "output_file = 'personality_datacqtrandgvkey.xls'\n",
    "results_df.to_excel(output_file, index=False)\n",
    "\n",
    "print(f\"预测结果已保存到 {output_file}\")"
   ]
  },
  {
   "cell_type": "code",
   "execution_count": 5,
   "metadata": {},
   "outputs": [],
   "source": [
    "# text = 'It is important to note that each of the five personality factors represents a range between two extremes. For example, extraversion represents a continuum between extreme extraversion and extreme introversion. In the real world, most people lie somewhere in between the two polar ends of each dimension. These five categories are usually described as follows.'"
   ]
  },
  {
   "cell_type": "code",
   "execution_count": 6,
   "metadata": {},
   "outputs": [],
   "source": [
    "# Extraversion='I feel an overwhelming surge of excitement when surrounded by a crowd; my energy is contagious, and I thrive on the vibrant atmosphere of social gatherings.'"
   ]
  },
  {
   "cell_type": "code",
   "execution_count": 7,
   "metadata": {},
   "outputs": [
    {
     "name": "stdout",
     "output_type": "stream",
     "text": [
      "predicted personality: [0.5636255180008869, 0.58, 0.6629771396018606, 0.554767820751249, 0.7000641385621587]\n"
     ]
    }
   ],
   "source": [
    "# predictions = predict_personality(text)\n",
    "# print(\"predicted personality:\", predictions)\n",
    "# df = pd.DataFrame(dict(r=predictions, theta=['EXT','NEU','AGR', 'CON', 'OPN']))\n",
    "# fig = px.line_polar(df, r='r', theta='theta', line_close=True)\n",
    "# # # fig.show()\n",
    "# # fig.write_image(\"personality_plot.png\", format=\"png\")"
   ]
  },
  {
   "cell_type": "code",
   "execution_count": null,
   "metadata": {},
   "outputs": [],
   "source": []
  }
 ],
 "metadata": {
  "kernelspec": {
   "display_name": "bigfive27",
   "language": "python",
   "name": "bigfive"
  },
  "language_info": {
   "codemirror_mode": {
    "name": "ipython",
    "version": 3
   },
   "file_extension": ".py",
   "mimetype": "text/x-python",
   "name": "python",
   "nbconvert_exporter": "python",
   "pygments_lexer": "ipython3",
   "version": "3.6.15"
  }
 },
 "nbformat": 4,
 "nbformat_minor": 4
}
