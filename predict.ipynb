{
 "cells": [
  {
   "cell_type": "code",
   "execution_count": 1,
   "metadata": {},
   "outputs": [],
   "source": [
    "import pickle\n",
    "from sklearn.feature_extraction.text import CountVectorizer\n",
    "import plotly.express as px\n",
    "import pandas as pd\n",
    "import re\n",
    "import plotly.io as pio\n",
    "pio.renderers.default = 'notebook'"
   ]
  },
  {
   "cell_type": "code",
   "execution_count": 2,
   "metadata": {},
   "outputs": [],
   "source": [
    "cEXT = pickle.load( open( \"data/models/cEXT.p\", \"rb\"))\n",
    "cNEU = pickle.load( open( \"data/models/cNEU.p\", \"rb\"))\n",
    "cAGR = pickle.load( open( \"data/models/cAGR.p\", \"rb\"))\n",
    "cCON = pickle.load( open( \"data/models/cCON.p\", \"rb\"))\n",
    "cOPN = pickle.load( open( \"data/models/cOPN.p\", \"rb\"))\n",
    "vectorizer_31 = pickle.load( open( \"data/models/vectorizer_31.p\", \"rb\"))\n",
    "vectorizer_30 = pickle.load( open( \"data/models/vectorizer_30.p\", \"rb\"))"
   ]
  },
  {
   "cell_type": "code",
   "execution_count": 3,
   "metadata": {},
   "outputs": [],
   "source": [
    "# def predict_personality(text):\n",
    "#     scentences = re.split(\"(?<=[.!?]) +\", text)\n",
    "#     text_vector_31 = vectorizer_31.transform(scentences)\n",
    "#     text_vector_30 = vectorizer_30.transform(scentences)\n",
    "#     EXT = cEXT.predict(text_vector_31)\n",
    "#     NEU = cNEU.predict(text_vector_30)\n",
    "#     AGR = cAGR.predict(text_vector_31)\n",
    "#     CON = cCON.predict(text_vector_31)\n",
    "#     OPN = cOPN.predict(text_vector_31)\n",
    "#     return [EXT[0], NEU[0], AGR[0], CON[0], OPN[0]]\n"
   ]
  },
  {
   "cell_type": "code",
   "execution_count": 4,
   "metadata": {},
   "outputs": [],
   "source": [
    "# 输出为bigefive的置信度\n",
    "def predict_personality(text):\n",
    "    # Split text into sentences\n",
    "    sentences = re.split(\"(?<=[.!?]) +\", Extraversion)\n",
    "    \n",
    "    # Transform sentences into feature vectors\n",
    "    text_vector_31 = vectorizer_31.transform(sentences)\n",
    "    text_vector_30 = vectorizer_30.transform(sentences)\n",
    "    \n",
    "    # Predict probabilities for each personality dimension\n",
    "    prob_EXT = cEXT.predict_proba(text_vector_31)  # Predict probabilities for EXT\n",
    "    prob_NEU = cNEU.predict_proba(text_vector_30)  # Predict probabilities for NEU\n",
    "    prob_AGR = cAGR.predict_proba(text_vector_31)  # Predict probabilities for AGR\n",
    "    prob_CON = cCON.predict_proba(text_vector_31)  # Predict probabilities for CON\n",
    "    prob_OPN = cOPN.predict_proba(text_vector_31)  # Predict probabilities for OPN\n",
    "    \n",
    "    # Extract the confidence scores (probability of the predicted class)\n",
    "    confidence_EXT = prob_EXT.max()  # Confidence for EXT\n",
    "    confidence_NEU = prob_NEU.max()  # Confidence for NEU\n",
    "    confidence_AGR = prob_AGR.max()  # Confidence for AGR\n",
    "    confidence_CON = prob_CON.max()  # Confidence for CON\n",
    "    confidence_OPN = prob_OPN.max()  # Confidence for OPN\n",
    "    \n",
    "    return [confidence_EXT, confidence_NEU, confidence_AGR, confidence_CON, confidence_OPN]"
   ]
  },
  {
   "cell_type": "code",
   "execution_count": 5,
   "metadata": {},
   "outputs": [],
   "source": [
    "text = 'It is important to note that each of the five personality factors represents a range between two extremes. For example, extraversion represents a continuum between extreme extraversion and extreme introversion. In the real world, most people lie somewhere in between the two polar ends of each dimension. These five categories are usually described as follows.'"
   ]
  },
  {
   "cell_type": "code",
   "execution_count": 6,
   "metadata": {},
   "outputs": [],
   "source": [
    "Extraversion='I feel an overwhelming surge of excitement when surrounded by a crowd; my energy is contagious, and I thrive on the vibrant atmosphere of social gatherings.'"
   ]
  },
  {
   "cell_type": "code",
   "execution_count": 7,
   "metadata": {},
   "outputs": [
    {
     "name": "stdout",
     "output_type": "stream",
     "text": [
      "predicted personality: [0.5636255180008869, 0.58, 0.6629771396018606, 0.554767820751249, 0.7000641385621587]\n"
     ]
    }
   ],
   "source": [
    "predictions = predict_personality(text)\n",
    "print(\"predicted personality:\", predictions)\n",
    "df = pd.DataFrame(dict(r=predictions, theta=['EXT','NEU','AGR', 'CON', 'OPN']))\n",
    "fig = px.line_polar(df, r='r', theta='theta', line_close=True)\n",
    "# # fig.show()\n",
    "# fig.write_image(\"personality_plot.png\", format=\"png\")"
   ]
  },
  {
   "cell_type": "code",
   "execution_count": null,
   "metadata": {},
   "outputs": [],
   "source": []
  }
 ],
 "metadata": {
  "kernelspec": {
   "display_name": "bigfive27",
   "language": "python",
   "name": "bigfive"
  },
  "language_info": {
   "codemirror_mode": {
    "name": "ipython",
    "version": 3
   },
   "file_extension": ".py",
   "mimetype": "text/x-python",
   "name": "python",
   "nbconvert_exporter": "python",
   "pygments_lexer": "ipython3",
   "version": "3.6.15"
  }
 },
 "nbformat": 4,
 "nbformat_minor": 4
}
